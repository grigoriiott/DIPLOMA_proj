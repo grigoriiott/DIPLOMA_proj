{
 "cells": [
  {
   "cell_type": "code",
   "execution_count": 1,
   "id": "addb5d9c",
   "metadata": {},
   "outputs": [
    {
     "name": "stderr",
     "output_type": "stream",
     "text": [
      "D:\\Ott_diploma_proj_prog_files\\conda\\envs\\ott_diploma\\lib\\site-packages\\tqdm\\auto.py:22: TqdmWarning: IProgress not found. Please update jupyter and ipywidgets. See https://ipywidgets.readthedocs.io/en/stable/user_install.html\n",
      "  from .autonotebook import tqdm as notebook_tqdm\n"
     ]
    }
   ],
   "source": [
    "# Setup detectron2 logger\n",
    "import detectron2\n",
    "from detectron2.utils.logger import setup_logger\n",
    "setup_logger()\n",
    "\n",
    "# import some common libraries\n",
    "import numpy as np\n",
    "import os, json, cv2, random\n",
    "import matplotlib.pyplot as plt\n",
    "import torch\n",
    "\n",
    "# import some common detectron2 utilities\n",
    "from detectron2 import model_zoo\n",
    "from detectron2.engine import DefaultPredictor\n",
    "from detectron2.config import get_cfg\n",
    "from detectron2.utils.visualizer import Visualizer\n",
    "from detectron2.data import MetadataCatalog, DatasetCatalog\n",
    "from detectron2.utils.visualizer import ColorMode, Visualizer\n",
    "from detectron2.evaluation import COCOEvaluator, inference_on_dataset\n",
    "from detectron2.data import build_detection_test_loader\n",
    "from detectron2.structures import BoxMode"
   ]
  },
  {
   "cell_type": "code",
   "execution_count": 2,
   "id": "5a2825b8",
   "metadata": {},
   "outputs": [],
   "source": [
    "def get_data_dicts(directory, classes):\n",
    "    dataset_dicts = []\n",
    "    i = 0\n",
    "    for filename in [file for file in os.listdir(directory) if file.endswith('.json')]:\n",
    "        i+=1\n",
    "        json_file = os.path.join(directory, filename)\n",
    "        with open(json_file) as f:\n",
    "            img_anns = json.load(f)\n",
    "\n",
    "        record = {}\n",
    "        \n",
    "        filename = os.path.join(directory, img_anns[\"imagePath\"])\n",
    "        \n",
    "        record[\"file_name\"] = filename\n",
    "        record[\"image_id\"] = i\n",
    "        record[\"height\"] = 1080\n",
    "        record[\"width\"] = 1920\n",
    "\n",
    "      \n",
    "        annos = img_anns[\"shapes\"]\n",
    "        objs = []\n",
    "        for anno in annos:\n",
    "            px = [a[0] for a in anno['points']] # x coord\n",
    "            py = [a[1] for a in anno['points']] # y-coord\n",
    "            poly = [(x, y) for x, y in zip(px, py)] # poly for segmentation\n",
    "            poly = [p for x in poly for p in x]\n",
    "\n",
    "            obj = {\n",
    "                \"bbox\": [np.min(px), np.min(py), np.max(px), np.max(py)],\n",
    "                \"bbox_mode\": BoxMode.XYXY_ABS,\n",
    "                \"segmentation\": [poly],\n",
    "                \"category_id\": classes.index(anno['label']),\n",
    "                #\"id\": i,\n",
    "                \"iscrowd\": 0\n",
    "            }\n",
    "            objs.append(obj)\n",
    "        record[\"annotations\"] = objs\n",
    "        dataset_dicts.append(record)\n",
    "    return dataset_dicts"
   ]
  },
  {
   "cell_type": "code",
   "execution_count": 3,
   "id": "cc227cdf",
   "metadata": {},
   "outputs": [],
   "source": [
    "\n",
    "classes = ['icy_tail', 'icy_asphalt', 'powdery_snow', 'snow_drift', 'puffy_road_snow', 'snowy_road']\n",
    "\n",
    "data_path = 'DATA/'\n",
    "\n",
    "for d in [\"train\", \"test\"]:\n",
    "    DatasetCatalog.register(\n",
    "        \"category_\" + d, \n",
    "        lambda d=d: get_data_dicts(data_path+d, classes)\n",
    "    )\n",
    "    MetadataCatalog.get(\"category_\" + d).set(thing_classes=classes, thing_colors = [\n",
    "        (255,255,0),(0,0,255),(0,255,0),(255,0,255), (180,165,0), (187,132,156)]) #Done by me\n",
    "  \n",
    "    \n",
    "\n",
    "microcontroller_metadata = MetadataCatalog.get(\"category_train\")"
   ]
  },
  {
   "cell_type": "code",
   "execution_count": 4,
   "id": "59ab1e11",
   "metadata": {},
   "outputs": [
    {
     "name": "stdout",
     "output_type": "stream",
     "text": [
      "[03/11 17:28:40 d2.checkpoint.detection_checkpoint]: [DetectionCheckpointer] Loading from output\\model_final.pth ...\n",
      "[03/11 17:28:41 d2.evaluation.coco_evaluation]: Fast COCO eval is not built. Falling back to official COCO eval.\n",
      "WARNING [03/11 17:28:41 d2.evaluation.coco_evaluation]: COCO Evaluator instantiated using config, this is deprecated behavior. Please pass in explicit arguments instead.\n",
      "[03/11 17:28:41 d2.evaluation.coco_evaluation]: Trying to convert 'category_test' to COCO format ...\n",
      "[03/11 17:28:41 d2.data.datasets.coco]: Converting annotations of dataset 'category_test' to COCO format ...)\n",
      "[03/11 17:28:41 d2.data.datasets.coco]: Converting dataset dicts into COCO format\n",
      "[03/11 17:28:41 d2.data.datasets.coco]: Conversion finished, #images: 36, #annotations: 239\n",
      "[03/11 17:28:41 d2.data.datasets.coco]: Caching COCO format annotations at './output/eval/category_test_coco_format.json' ...\n"
     ]
    }
   ],
   "source": [
    "cfg_instance_seg = get_cfg()\n",
    "cfg_instance_seg.merge_from_file(model_zoo.get_config_file(\"COCO-InstanceSegmentation/mask_rcnn_R_50_FPN_3x.yaml\"))\n",
    "cfg_instance_seg.MODEL.ROI_HEADS.SCORE_THRESH_TEST = 0.75\n",
    "cfg_instance_seg.MODEL.WEIGHTS = os.path.join(\"output\", \"model_final.pth\")\n",
    "cfg_instance_seg.DATASETS.TEST = (\"category_test\")\n",
    "cfg_instance_seg.MODEL.ROI_HEADS.NUM_CLASSES = 6\n",
    "predictor = DefaultPredictor(cfg_instance_seg)\n",
    "evaluator = COCOEvaluator(\"category_test\", cfg_instance_seg, False, output_dir=\"./output/eval/\")"
   ]
  },
  {
   "cell_type": "code",
   "execution_count": 5,
   "id": "429a2204",
   "metadata": {},
   "outputs": [
    {
     "name": "stdout",
     "output_type": "stream",
     "text": [
      "[03/11 17:29:06 d2.data.build]: Distribution of instances among all 6 categories:\n",
      "|  category  | #instances   |   category    | #instances   |   category   | #instances   |\n",
      "|:----------:|:-------------|:-------------:|:-------------|:------------:|:-------------|\n",
      "|  icy_tail  | 21           |  icy_asphalt  | 27           | powdery_snow | 6            |\n",
      "| snow_drift | 77           | puffy_road_.. | 49           |  snowy_road  | 59           |\n",
      "|            |              |               |              |              |              |\n",
      "|   total    | 239          |               |              |              |              |\n",
      "[03/11 17:29:06 d2.data.dataset_mapper]: [DatasetMapper] Augmentations used in inference: [ResizeShortestEdge(short_edge_length=(800, 800), max_size=1333, sample_style='choice')]\n",
      "[03/11 17:29:06 d2.data.common]: Serializing the dataset using: <class 'detectron2.data.common._TorchSerializedList'>\n",
      "[03/11 17:29:06 d2.data.common]: Serializing 36 elements to byte tensors and concatenating them all ...\n",
      "[03/11 17:29:06 d2.data.common]: Serialized dataset takes 0.11 MiB\n",
      "[03/11 17:29:06 d2.evaluation.evaluator]: Start inference on 36 batches\n"
     ]
    },
    {
     "name": "stderr",
     "output_type": "stream",
     "text": [
      "C:\\Users\\gvo2\\AppData\\Roaming\\Python\\Python37\\site-packages\\torch\\functional.py:478: UserWarning: torch.meshgrid: in an upcoming release, it will be required to pass the indexing argument. (Triggered internally at  C:\\actions-runner\\_work\\pytorch\\pytorch\\builder\\windows\\pytorch\\aten\\src\\ATen\\native\\TensorShape.cpp:2895.)\n",
      "  return _VF.meshgrid(tensors, **kwargs)  # type: ignore[attr-defined]\n"
     ]
    },
    {
     "name": "stdout",
     "output_type": "stream",
     "text": [
      "[03/11 17:29:32 d2.evaluation.evaluator]: Inference done 1/36. Dataloading: 2.9400 s/iter. Inference: 22.5458 s/iter. Eval: 0.1991 s/iter. Total: 25.6856 s/iter. ETA=0:14:58\n",
      "[03/11 17:29:37 d2.evaluation.evaluator]: Inference done 33/36. Dataloading: 0.0006 s/iter. Inference: 0.1028 s/iter. Eval: 0.0415 s/iter. Total: 0.1450 s/iter. ETA=0:00:00\n",
      "[03/11 17:29:37 d2.evaluation.evaluator]: Total inference time: 0:00:04.924082 (0.158841 s / iter per device, on 1 devices)\n",
      "[03/11 17:29:37 d2.evaluation.evaluator]: Total inference pure compute time: 0:00:03 (0.103679 s / iter per device, on 1 devices)\n",
      "[03/11 17:29:37 d2.evaluation.coco_evaluation]: Preparing results for COCO format ...\n",
      "[03/11 17:29:37 d2.evaluation.coco_evaluation]: Saving results to ./output/eval/coco_instances_results.json\n",
      "[03/11 17:29:37 d2.evaluation.coco_evaluation]: Evaluating predictions with official COCO API...\n",
      "Loading and preparing results...\n",
      "DONE (t=0.00s)\n",
      "creating index...\n",
      "index created!\n",
      "Running per image evaluation...\n",
      "Evaluate annotation type *bbox*\n",
      "DONE (t=0.05s).\n",
      "Accumulating evaluation results...\n",
      "DONE (t=0.03s).\n",
      " Average Precision  (AP) @[ IoU=0.50:0.95 | area=   all | maxDets=100 ] = 0.682\n",
      " Average Precision  (AP) @[ IoU=0.50      | area=   all | maxDets=100 ] = 0.792\n",
      " Average Precision  (AP) @[ IoU=0.75      | area=   all | maxDets=100 ] = 0.715\n",
      " Average Precision  (AP) @[ IoU=0.50:0.95 | area= small | maxDets=100 ] = 1.000\n",
      " Average Precision  (AP) @[ IoU=0.50:0.95 | area=medium | maxDets=100 ] = 0.740\n",
      " Average Precision  (AP) @[ IoU=0.50:0.95 | area= large | maxDets=100 ] = 0.679\n",
      " Average Recall     (AR) @[ IoU=0.50:0.95 | area=   all | maxDets=  1 ] = 0.405\n",
      " Average Recall     (AR) @[ IoU=0.50:0.95 | area=   all | maxDets= 10 ] = 0.719\n",
      " Average Recall     (AR) @[ IoU=0.50:0.95 | area=   all | maxDets=100 ] = 0.719\n",
      " Average Recall     (AR) @[ IoU=0.50:0.95 | area= small | maxDets=100 ] = 1.000\n",
      " Average Recall     (AR) @[ IoU=0.50:0.95 | area=medium | maxDets=100 ] = 0.749\n",
      " Average Recall     (AR) @[ IoU=0.50:0.95 | area= large | maxDets=100 ] = 0.717\n",
      "[03/11 17:29:38 d2.evaluation.coco_evaluation]: Evaluation results for bbox: \n",
      "|   AP   |  AP50  |  AP75  |   APs   |  APm   |  APl   |\n",
      "|:------:|:------:|:------:|:-------:|:------:|:------:|\n",
      "| 68.242 | 79.198 | 71.512 | 100.000 | 74.048 | 67.898 |\n",
      "[03/11 17:29:38 d2.evaluation.coco_evaluation]: Per-category bbox AP: \n",
      "| category   | AP     | category        | AP     | category     | AP     |\n",
      "|:-----------|:-------|:----------------|:-------|:-------------|:-------|\n",
      "| icy_tail   | 72.168 | icy_asphalt     | 75.375 | powdery_snow | 83.168 |\n",
      "| snow_drift | 63.985 | puffy_road_snow | 44.937 | snowy_road   | 69.820 |\n",
      "Loading and preparing results...\n",
      "DONE (t=0.00s)\n",
      "creating index...\n",
      "index created!\n",
      "Running per image evaluation...\n",
      "Evaluate annotation type *segm*\n",
      "DONE (t=0.13s).\n",
      "Accumulating evaluation results...\n",
      "DONE (t=0.03s).\n",
      " Average Precision  (AP) @[ IoU=0.50:0.95 | area=   all | maxDets=100 ] = 0.626\n",
      " Average Precision  (AP) @[ IoU=0.50      | area=   all | maxDets=100 ] = 0.788\n",
      " Average Precision  (AP) @[ IoU=0.75      | area=   all | maxDets=100 ] = 0.723\n",
      " Average Precision  (AP) @[ IoU=0.50:0.95 | area= small | maxDets=100 ] = 0.800\n",
      " Average Precision  (AP) @[ IoU=0.50:0.95 | area=medium | maxDets=100 ] = 0.696\n",
      " Average Precision  (AP) @[ IoU=0.50:0.95 | area= large | maxDets=100 ] = 0.620\n",
      " Average Recall     (AR) @[ IoU=0.50:0.95 | area=   all | maxDets=  1 ] = 0.386\n",
      " Average Recall     (AR) @[ IoU=0.50:0.95 | area=   all | maxDets= 10 ] = 0.661\n",
      " Average Recall     (AR) @[ IoU=0.50:0.95 | area=   all | maxDets=100 ] = 0.661\n",
      " Average Recall     (AR) @[ IoU=0.50:0.95 | area= small | maxDets=100 ] = 0.800\n",
      " Average Recall     (AR) @[ IoU=0.50:0.95 | area=medium | maxDets=100 ] = 0.715\n",
      " Average Recall     (AR) @[ IoU=0.50:0.95 | area= large | maxDets=100 ] = 0.655\n",
      "[03/11 17:29:38 d2.evaluation.coco_evaluation]: Evaluation results for segm: \n",
      "|   AP   |  AP50  |  AP75  |  APs   |  APm   |  APl   |\n",
      "|:------:|:------:|:------:|:------:|:------:|:------:|\n",
      "| 62.559 | 78.791 | 72.272 | 80.000 | 69.560 | 62.042 |\n",
      "[03/11 17:29:38 d2.evaluation.coco_evaluation]: Per-category segm AP: \n",
      "| category   | AP     | category        | AP     | category     | AP     |\n",
      "|:-----------|:-------|:----------------|:-------|:-------------|:-------|\n",
      "| icy_tail   | 60.012 | icy_asphalt     | 76.738 | powdery_snow | 74.277 |\n",
      "| snow_drift | 62.188 | puffy_road_snow | 35.500 | snowy_road   | 66.640 |\n"
     ]
    },
    {
     "data": {
      "text/plain": [
       "OrderedDict([('bbox',\n",
       "              {'AP': 68.24223892270103,\n",
       "               'AP50': 79.1983922153961,\n",
       "               'AP75': 71.51186016810081,\n",
       "               'APs': 99.99999999999997,\n",
       "               'APm': 74.04840484048404,\n",
       "               'APl': 67.89845847494266,\n",
       "               'AP-icy_tail': 72.16831683168317,\n",
       "               'AP-icy_asphalt': 75.37534676544577,\n",
       "               'AP-powdery_snow': 83.16831683168317,\n",
       "               'AP-snow_drift': 63.98539094190991,\n",
       "               'AP-puffy_road_snow': 44.93654300507761,\n",
       "               'AP-snowy_road': 69.81951916040666}),\n",
       "             ('segm',\n",
       "              {'AP': 62.55946577841607,\n",
       "               'AP50': 78.79077921464875,\n",
       "               'AP75': 72.27218092003848,\n",
       "               'APs': 80.0,\n",
       "               'APm': 69.55952738130955,\n",
       "               'APl': 62.042043082971276,\n",
       "               'AP-icy_tail': 60.01231730315889,\n",
       "               'AP-icy_asphalt': 76.73845230676915,\n",
       "               'AP-powdery_snow': 74.27722772277228,\n",
       "               'AP-snow_drift': 62.188349741793004,\n",
       "               'AP-puffy_road_snow': 35.500120181490615,\n",
       "               'AP-snowy_road': 66.64032741451246})])"
      ]
     },
     "execution_count": 5,
     "metadata": {},
     "output_type": "execute_result"
    }
   ],
   "source": [
    "val_loader = build_detection_test_loader(cfg_instance_seg, \"category_test\")\n",
    "inference_on_dataset(predictor.model, val_loader, evaluator)\n",
    "#evaluator.evaluate()"
   ]
  },
  {
   "cell_type": "code",
   "execution_count": null,
   "id": "25fc5c7c",
   "metadata": {},
   "outputs": [],
   "source": []
  }
 ],
 "metadata": {
  "kernelspec": {
   "display_name": "Python 3 (ipykernel)",
   "language": "python",
   "name": "python3"
  },
  "language_info": {
   "codemirror_mode": {
    "name": "ipython",
    "version": 3
   },
   "file_extension": ".py",
   "mimetype": "text/x-python",
   "name": "python",
   "nbconvert_exporter": "python",
   "pygments_lexer": "ipython3",
   "version": "3.7.16"
  }
 },
 "nbformat": 4,
 "nbformat_minor": 5
}
