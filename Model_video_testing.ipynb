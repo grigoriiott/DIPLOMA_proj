{
 "cells": [
  {
   "cell_type": "code",
   "execution_count": 1,
   "id": "923466e3",
   "metadata": {},
   "outputs": [
    {
     "name": "stderr",
     "output_type": "stream",
     "text": [
      "D:\\Ott_diploma_proj_prog_files\\conda\\envs\\ott_diploma\\lib\\site-packages\\tqdm\\auto.py:22: TqdmWarning: IProgress not found. Please update jupyter and ipywidgets. See https://ipywidgets.readthedocs.io/en/stable/user_install.html\n",
      "  from .autonotebook import tqdm as notebook_tqdm\n"
     ]
    }
   ],
   "source": [
    "# Setup detectron2 logger\n",
    "import detectron2\n",
    "from detectron2.utils.logger import setup_logger\n",
    "setup_logger()\n",
    "\n",
    "# import some common libraries\n",
    "import numpy as np\n",
    "import os, json, cv2, random\n",
    "import matplotlib.pyplot as plt\n",
    "\n",
    "# import some common detectron2 utilities\n",
    "from detectron2 import model_zoo\n",
    "from detectron2.engine import DefaultPredictor\n",
    "from detectron2.config import get_cfg\n",
    "from detectron2.utils.visualizer import Visualizer\n",
    "from detectron2.data import MetadataCatalog, DatasetCatalog\n",
    "from detectron2.utils.visualizer import ColorMode, Visualizer\n",
    "from detectron2.utils.video_visualizer import VideoVisualizer"
   ]
  },
  {
   "cell_type": "code",
   "execution_count": 2,
   "id": "d724ca99",
   "metadata": {},
   "outputs": [],
   "source": [
    "classes = ['icy_tail', 'icy_asphalt', 'powdery_snow', 'snow_drift', 'puffy_road_snow', 'snowy_road']\n",
    "\n",
    "MetadataCatalog.get(\"category\").set(thing_classes=classes, thing_colors = [\n",
    "        (255,255,0),(0,0,255),(0,255,0),(255,0,255), (180,165,0), (187,132,156)]) #Done by me\n",
    "  \n",
    "    \n",
    "\n",
    "microcontroller_metadata = MetadataCatalog.get(\"category\")"
   ]
  },
  {
   "cell_type": "code",
   "execution_count": 3,
   "id": "4b5b35d0",
   "metadata": {},
   "outputs": [
    {
     "name": "stdout",
     "output_type": "stream",
     "text": [
      "[05/04 13:58:08 d2.checkpoint.detection_checkpoint]: [DetectionCheckpointer] Loading from output\\model_final.pth ...\n"
     ]
    }
   ],
   "source": [
    "cfg_instance_seg = get_cfg()\n",
    "cfg_instance_seg.merge_from_file(model_zoo.get_config_file(\"COCO-InstanceSegmentation/mask_rcnn_R_50_FPN_3x.yaml\"))\n",
    "cfg_instance_seg.MODEL.ROI_HEADS.SCORE_THRESH_TEST = 0.75\n",
    "cfg_instance_seg.MODEL.WEIGHTS = os.path.join(\"output\", \"model_final.pth\")\n",
    "cfg_instance_seg.MODEL.ROI_HEADS.NUM_CLASSES = 6\n",
    "predictor = DefaultPredictor(cfg_instance_seg)"
   ]
  },
  {
   "cell_type": "code",
   "execution_count": 4,
   "id": "71514a66",
   "metadata": {},
   "outputs": [],
   "source": [
    "class MyVisualizer(Visualizer):\n",
    "    def _jitter(self, color ):\n",
    "        return color"
   ]
  },
  {
   "cell_type": "code",
   "execution_count": 5,
   "id": "5a5f9dfc",
   "metadata": {},
   "outputs": [],
   "source": [
    "def new_output(outputs):\n",
    "    new_output = detectron2.structures.instances.Instances(image_size = (1080, 1920))\n",
    "    new_output.set('pred_classes', outputs['instances'].pred_classes)\n",
    "    new_output.set('pred_masks', outputs['instances'].pred_masks)\n",
    "    return new_output"
   ]
  },
  {
   "cell_type": "code",
   "execution_count": null,
   "id": "1ab9426a",
   "metadata": {},
   "outputs": [],
   "source": [
    "#with filming\n",
    "cap = cv2.VideoCapture(\"DATA/video/7.mp4\")\n",
    "result = cv2.VideoWriter('ready_vids/before_optim/vid7.avi', cv2.VideoWriter_fourcc(*\"MJPG\"), 20.0, (1536, 864))\n",
    "while(cap.isOpened()):\n",
    "    success, img = cap.read()\n",
    "    if success == True:\n",
    "        img = cv2.resize(img, (1920, 1080), interpolation = cv2.INTER_AREA)\n",
    "        outputs = predictor(img)\n",
    "        outputs = new_output(outputs)\n",
    "        v = MyVisualizer(img[:, :, ::-1],\n",
    "                        metadata=microcontroller_metadata, \n",
    "                        scale=0.8, \n",
    "                        instance_mode=ColorMode.SEGMENTATION, # removes the colors of unsegmented pixels\n",
    "        )\n",
    "        v = v.draw_instance_predictions(outputs.to(\"cpu\"))\n",
    "        cv2.imshow(\"Image!\", v.get_image()[:, :, ::-1])\n",
    "        \n",
    "        #print(v.get_image()[:, :, ::-1].shape)\n",
    "        result.write(v.get_image()[:, :, ::-1])\n",
    "        \n",
    "        if cv2.waitKey(1) & 0xFF==ord('q'):\n",
    "            break\n",
    "    else:\n",
    "        break\n",
    "    \n",
    "result.release()\n",
    "cap.release()\n",
    "cv2.destroyAllWindows()\n",
    "print(\"Done, Don!\")"
   ]
  },
  {
   "cell_type": "code",
   "execution_count": 6,
   "id": "795a886c",
   "metadata": {},
   "outputs": [
    {
     "name": "stdout",
     "output_type": "stream",
     "text": [
      "Done, Don!\n"
     ]
    }
   ],
   "source": [
    "#with no filming\n",
    "cap = cv2.VideoCapture(\"DATA/video/1.mp4\")\n",
    "while(cap.isOpened()):\n",
    "    success, img = cap.read()\n",
    "    if success == True:\n",
    "        img = cv2.resize(img, (1920, 1080), interpolation = cv2.INTER_AREA)\n",
    "        outputs = predictor(img)\n",
    "        \n",
    "        v = MyVisualizer(img[:, :, ::-1],\n",
    "                        metadata=microcontroller_metadata, \n",
    "                        scale=0.8, \n",
    "                        instance_mode=ColorMode.SEGMENTATION, # removes the colors of unsegmented pixels\n",
    "        )\n",
    "        v = v.draw_instance_predictions(outputs[\"instances\"].to(\"cpu\"))\n",
    "        cv2.imshow(\"Image!\", v.get_image()[:, :, ::-1])\n",
    "        \n",
    "        #print(v.get_image()[:, :, ::-1].shape)\n",
    "        \n",
    "        if cv2.waitKey(1) & 0xFF==ord('q'):\n",
    "            break\n",
    "    else:\n",
    "        break\n",
    "cap.release()\n",
    "cv2.destroyAllWindows()\n",
    "print(\"Done, Don!\")"
   ]
  },
  {
   "cell_type": "code",
   "execution_count": null,
   "id": "dd3d5bbb",
   "metadata": {},
   "outputs": [],
   "source": []
  }
 ],
 "metadata": {
  "kernelspec": {
   "display_name": "Python 3 (ipykernel)",
   "language": "python",
   "name": "python3"
  },
  "language_info": {
   "codemirror_mode": {
    "name": "ipython",
    "version": 3
   },
   "file_extension": ".py",
   "mimetype": "text/x-python",
   "name": "python",
   "nbconvert_exporter": "python",
   "pygments_lexer": "ipython3",
   "version": "3.7.16"
  }
 },
 "nbformat": 4,
 "nbformat_minor": 5
}
